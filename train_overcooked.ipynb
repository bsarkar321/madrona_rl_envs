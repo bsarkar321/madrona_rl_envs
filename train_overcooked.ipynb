{
 "cells": [
  {
   "cell_type": "code",
   "execution_count": null,
   "id": "5bca83f6",
   "metadata": {
    "scrolled": true
   },
   "outputs": [],
   "source": [
    "!pip install torch numpy tensorboard flask onnx onnx_tf tensorflow tensorflow_probability tensorflowjs\n",
    "!mkdir build && cd build && cmake -D CUDAToolkit_ROOT=/usr/local/cuda-12.0 .. && make -j && cd .."
   ]
  },
  {
   "cell_type": "code",
   "execution_count": null,
   "id": "a971671e",
   "metadata": {},
   "outputs": [],
   "source": [
    "!pip install -e .\n",
    "!pip install -e PantheonRL/overcookedgym/human_aware_rl/overcooked_ai"
   ]
  },
  {
   "cell_type": "markdown",
   "id": "7ff30b5f",
   "metadata": {},
   "source": [
    "Restart and clear output here! Then continue running the next blocks"
   ]
  },
  {
   "cell_type": "code",
   "execution_count": null,
   "id": "08e630cd",
   "metadata": {},
   "outputs": [],
   "source": [
    "%env MADRONA_MWGPU_KERNEL_CACHE=/tmp/madrona_over_cache\n",
    "import os\n",
    "import overcooked_ai_py\n",
    "from train.MAPPO.main_player import MainPlayer\n",
    "\n",
    "from train.config import get_config\n",
    "from pathlib import Path\n",
    "\n",
    "from train.env_utils import generate_env\n",
    "\n",
    "from train.partner_agents import CentralizedAgent\n",
    "\n",
    "import torch\n",
    "import time"
   ]
  },
  {
   "cell_type": "code",
   "execution_count": null,
   "id": "30118915",
   "metadata": {},
   "outputs": [],
   "source": [
    "args = get_config().parse_args(\"\")\n",
    "args.num_env_steps = 10000000\n",
    "args.pop_size = 1\n",
    "args.episode_length = 200\n",
    "args.env_length = 200\n",
    "args.env_name = \"overcooked\"\n",
    "args.seed = 1\n",
    "args.over_layout = \"simple\"\n",
    "args.run_dir = \"sp\"\n",
    "args.restored = 0\n",
    "args.cuda = True\n",
    "\n",
    "args.n_rollout_threads = 500\n",
    "args.ppo_epoch = 5\n",
    "args.layer_N = 2\n",
    "args.hidden_size = 64\n",
    "args.lr = 2e-2\n",
    "args.critic_lr = 2e-2\n",
    "args.entropy_coef = 0.0\n",
    "# args.linear_lr_decay = True\n",
    "\n",
    "args.use_baseline = False"
   ]
  },
  {
   "cell_type": "code",
   "execution_count": null,
   "id": "2ba74bd5",
   "metadata": {},
   "outputs": [],
   "source": [
    "device = 'cuda' if torch.cuda.is_available() and args.cuda else 'cpu'\n",
    "\n",
    "envs = generate_env(args.env_name, args.n_rollout_threads, args.over_layout, use_env_cpu=(device=='cpu'), use_baseline=args.use_baseline)\n",
    "\n",
    "args.hanabi_name = args.over_layout if args.env_name == 'overcooked' else args.env_name\n",
    "\n",
    "run_dir = (\n",
    "        \"train/\"\n",
    "        + args.hanabi_name\n",
    "        + \"/results/\"\n",
    "        + (args.run_dir)\n",
    "        + \"/\"\n",
    "        + str(args.seed)\n",
    "    )\n",
    "os.makedirs(run_dir, exist_ok=True)\n",
    "with open(run_dir + \"/\" + \"args.txt\", \"w\", encoding=\"UTF-8\") as file:\n",
    "    file.write(str(args))\n",
    "config = {\n",
    "    'all_args': args,\n",
    "    'envs': envs,\n",
    "    'device': device,\n",
    "    'num_agents': 2,\n",
    "    'run_dir': Path(run_dir)\n",
    "}"
   ]
  },
  {
   "cell_type": "code",
   "execution_count": null,
   "id": "d6ce1ef7",
   "metadata": {
    "scrolled": true
   },
   "outputs": [],
   "source": [
    "start = time.time()\n",
    "ego = MainPlayer(config)\n",
    "partner = CentralizedAgent(ego, 1)\n",
    "envs.add_partner_agent(partner)\n",
    "ego.run()\n",
    "end = time.time()\n",
    "print(f\"Total time taken: {end - start} seconds\")"
   ]
  },
  {
   "cell_type": "markdown",
   "id": "3cc31582",
   "metadata": {},
   "source": [
    "Testing quality of trained agent!"
   ]
  },
  {
   "cell_type": "code",
   "execution_count": null,
   "id": "e1d90451",
   "metadata": {},
   "outputs": [],
   "source": [
    "import torch.nn as nn\n",
    "from torch.distributions.categorical import Categorical\n",
    "\n",
    "\n",
    "class Policy(nn.Module):\n",
    "\n",
    "    def __init__(self, actor):\n",
    "        super(Policy, self).__init__()\n",
    "\n",
    "        self.base = actor.base.cnn.cnn\n",
    "        self.act_layer = actor.act\n",
    "\n",
    "    def forward(self, x: torch.Tensor):\n",
    "        x = x.to(dtype=torch.float)\n",
    "        x = self.base(x.permute((0, 3, 1, 2)))\n",
    "        x = self.act_layer(x, deterministic=True)\n",
    "        return x[0]"
   ]
  },
  {
   "cell_type": "code",
   "execution_count": null,
   "id": "9080b5ed",
   "metadata": {},
   "outputs": [],
   "source": [
    "run_dir = Path(run_dir)\n",
    "args.model_dir = str(run_dir / 'models')\n",
    "\n",
    "config = {\n",
    "    'all_args': args,\n",
    "    'envs': envs,\n",
    "    'device': device,\n",
    "    'num_agents': 2,\n",
    "    'run_dir': run_dir\n",
    "}\n",
    "\n",
    "ego = MainPlayer(config)\n",
    "ego.restore()\n",
    "torch_network = Policy(ego.policy.actor)\n",
    "\n",
    "actions = torch.zeros((2, args.n_rollout_threads, 1), dtype=int, device=device)\n",
    "\n",
    "state1, state2 = envs.n_reset()\n",
    "scores = torch.zeros(args.n_rollout_threads, device=device)\n",
    "for i in range(args.env_length):\n",
    "    actions[0, :, :] = torch_network(state1.obs)\n",
    "    actions[1, :, :] = torch_network(state2.obs)\n",
    "    (state1, state2), reward, _, _ = envs.n_step(actions)\n",
    "    scores += reward[0, :]\n",
    "score_vals, counts = torch.unique(scores, return_counts=True)\n",
    "print({x.item() : y.item() for x, y in zip(score_vals, counts)})"
   ]
  },
  {
   "cell_type": "markdown",
   "id": "00aea08b",
   "metadata": {},
   "source": [
    "Viewing and interacting with trained agents"
   ]
  },
  {
   "cell_type": "code",
   "execution_count": null,
   "id": "507363e5",
   "metadata": {},
   "outputs": [],
   "source": [
    "import onnx\n",
    "from onnx_tf.backend import prepare\n",
    "\n",
    "class SimplePolicy(nn.Module):\n",
    "\n",
    "    def __init__(self, actor):\n",
    "        super(SimplePolicy, self).__init__()\n",
    "\n",
    "        self.base = actor.base.cnn.cnn\n",
    "        self.act_layer = actor.act.action_out.linear\n",
    "\n",
    "    def forward(self, x: torch.Tensor):\n",
    "        x = self.base(x.permute((0, 3, 1, 2)))\n",
    "        x = self.act_layer(x)\n",
    "        return nn.functional.softmax(x, dim=1)\n",
    "\n",
    "args.n_rollout_threads = 1\n",
    "    \n",
    "s_envs = generate_env(args.env_name, args.n_rollout_threads, args.over_layout)\n",
    "\n",
    "args.hanabi_name = args.over_layout if args.env_name == 'overcooked' else args.env_name\n",
    "\n",
    "torch_network = SimplePolicy(ego.policy.actor)\n",
    "\n",
    "vobs, _ = s_envs.n_reset()\n",
    "obs = vobs.obs.to(dtype=torch.float)\n",
    "\n",
    "print(\"*\" * 20, \" TORCH \", \"*\" * 20)\n",
    "\n",
    "print(torch_network)\n",
    "\n",
    "print(obs.shape)\n",
    "\n",
    "print(torch_network(obs))\n",
    "\n",
    "print(\"*\" * 20, \" ONNX \", \"*\" * 20)\n",
    "onnx_model_path = str(run_dir / \"models\" / f\"MAPPO_{args.over_layout}_agent.onnx\")\n",
    "\n",
    "input_name = 'input'  # 'ppo_agent/ppo2_model/Ob'\n",
    "\n",
    "torch.onnx.export(torch_network,\n",
    "                  obs,\n",
    "                  onnx_model_path,\n",
    "                  export_params=True,\n",
    "                  input_names=[input_name],\n",
    "                  output_names=['output'],\n",
    "                  opset_version=10)\n",
    "\n",
    "onnx_model = onnx.load(onnx_model_path)\n",
    "\n",
    "print(onnx_model.graph.input[0])\n",
    "\n",
    "onnx.checker.check_model(onnx_model)\n",
    "\n",
    "print(\"*\" * 20, \" TF \", \"*\" * 20)\n",
    "tf_rep = prepare(onnx_model)\n",
    "tf_model_dir = str(run_dir / 'models' / f'MAPPO_{args.over_layout}_agent')\n",
    "tf_rep.export_graph(tf_model_dir)\n",
    "\n",
    "tfjs_model_dir = f\"overcooked_demo/static/assets/MAPPO_{args.over_layout}_agent\"\n",
    "tfjs_convert_command = f\"\"\"tensorflowjs_converter\n",
    "                 --input_format=tf_saved_model \n",
    "                 --output_format=tfjs_graph_model \n",
    "                 --signature_name=serving_default \n",
    "                 --saved_model_tags=serve \n",
    "                 \"{tf_model_dir}\" \n",
    "                 \"{tfjs_model_dir}\"\n",
    "                 \"\"\"\n",
    "tfjs_convert_command = \" \".join(tfjs_convert_command.split())\n",
    "\n",
    "os.system(tfjs_convert_command)"
   ]
  },
  {
   "cell_type": "code",
   "execution_count": null,
   "id": "e3a9e03d",
   "metadata": {},
   "outputs": [],
   "source": [
    "from flask import Flask, send_file\n",
    "\n",
    "os.chdir(os.path.abspath('overcooked_demo'))\n",
    "app = Flask(__name__)\n",
    "os.chdir(os.path.abspath('..'))\n",
    "\n",
    "@app.route('/')\n",
    "def root():\n",
    "    return send_file('index.html')\n",
    "\n",
    "\n",
    "if __name__ == '__main__':\n",
    "    app.run(debug=False, host=\"0.0.0.0\")"
   ]
  }
 ],
 "metadata": {
  "kernelspec": {
   "display_name": "Python 3 (ipykernel)",
   "language": "python",
   "name": "python3"
  },
  "language_info": {
   "codemirror_mode": {
    "name": "ipython",
    "version": 3
   },
   "file_extension": ".py",
   "mimetype": "text/x-python",
   "name": "python",
   "nbconvert_exporter": "python",
   "pygments_lexer": "ipython3",
   "version": "3.10.11"
  }
 },
 "nbformat": 4,
 "nbformat_minor": 5
}
